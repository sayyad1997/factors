{
 "cells": [
  {
   "cell_type": "code",
   "execution_count": 2,
   "id": "0bcd14fe",
   "metadata": {},
   "outputs": [],
   "source": [
    "def sayyad(x):\n",
    "    for i in range (1,x+1):\n",
    "        if x%i==0:\n",
    "            print(\"factors of\", x,\"=\",i)"
   ]
  },
  {
   "cell_type": "code",
   "execution_count": 3,
   "id": "28eb5830",
   "metadata": {},
   "outputs": [
    {
     "name": "stdout",
     "output_type": "stream",
     "text": [
      "factors of 45 = 1\n",
      "factors of 45 = 3\n",
      "factors of 45 = 5\n",
      "factors of 45 = 9\n",
      "factors of 45 = 15\n",
      "factors of 45 = 45\n"
     ]
    }
   ],
   "source": [
    "sayyad(45)"
   ]
  },
  {
   "cell_type": "code",
   "execution_count": 4,
   "id": "2bcdf311",
   "metadata": {},
   "outputs": [
    {
     "name": "stdout",
     "output_type": "stream",
     "text": [
      "factors of 564 = 1\n",
      "factors of 564 = 2\n",
      "factors of 564 = 3\n",
      "factors of 564 = 4\n",
      "factors of 564 = 6\n",
      "factors of 564 = 12\n",
      "factors of 564 = 47\n",
      "factors of 564 = 94\n",
      "factors of 564 = 141\n",
      "factors of 564 = 188\n",
      "factors of 564 = 282\n",
      "factors of 564 = 564\n"
     ]
    }
   ],
   "source": [
    "sayyad(564)"
   ]
  },
  {
   "cell_type": "code",
   "execution_count": 11,
   "id": "2605a925",
   "metadata": {},
   "outputs": [],
   "source": [
    "def sayyad(a):\n",
    "    b=[]\n",
    "    for i in range(1,a+1):\n",
    "        if a%i==0:\n",
    "            print(\"factors of \",a)\n",
    "            b.append(i)\n",
    "            print(b)"
   ]
  },
  {
   "cell_type": "code",
   "execution_count": 12,
   "id": "76671259",
   "metadata": {},
   "outputs": [
    {
     "name": "stdout",
     "output_type": "stream",
     "text": [
      "factors of  345\n",
      "[1]\n",
      "factors of  345\n",
      "[1, 3]\n",
      "factors of  345\n",
      "[1, 3, 5]\n",
      "factors of  345\n",
      "[1, 3, 5, 15]\n",
      "factors of  345\n",
      "[1, 3, 5, 15, 23]\n",
      "factors of  345\n",
      "[1, 3, 5, 15, 23, 69]\n",
      "factors of  345\n",
      "[1, 3, 5, 15, 23, 69, 115]\n",
      "factors of  345\n",
      "[1, 3, 5, 15, 23, 69, 115, 345]\n"
     ]
    }
   ],
   "source": [
    "sayyad(345)"
   ]
  },
  {
   "cell_type": "code",
   "execution_count": 13,
   "id": "c620a85b",
   "metadata": {},
   "outputs": [],
   "source": [
    "def sayyad(v):\n",
    "    for i in range(1,v+1):\n",
    "        if v%i==0:\n",
    "            print(\"factors of \",v)\n",
    "            print(i)"
   ]
  },
  {
   "cell_type": "code",
   "execution_count": 14,
   "id": "1fb9989b",
   "metadata": {},
   "outputs": [
    {
     "name": "stdout",
     "output_type": "stream",
     "text": [
      "factors of  543\n",
      "1\n",
      "factors of  543\n",
      "3\n",
      "factors of  543\n",
      "181\n",
      "factors of  543\n",
      "543\n"
     ]
    }
   ],
   "source": [
    "sayyad(543)"
   ]
  },
  {
   "cell_type": "code",
   "execution_count": 15,
   "id": "56d67020",
   "metadata": {},
   "outputs": [],
   "source": [
    "def sayyad(x):\n",
    "    print(\"factors of \",x,\"are\")\n",
    "    a=[]\n",
    "    for i in range(1,x+1):\n",
    "        if x%i==0:\n",
    "            a.append(i)\n",
    "            print(a)"
   ]
  },
  {
   "cell_type": "code",
   "execution_count": 16,
   "id": "d54e9458",
   "metadata": {},
   "outputs": [
    {
     "name": "stdout",
     "output_type": "stream",
     "text": [
      "factors of  45323 are\n",
      "[1]\n",
      "[1, 61]\n",
      "[1, 61, 743]\n",
      "[1, 61, 743, 45323]\n"
     ]
    }
   ],
   "source": [
    "sayyad(45323)"
   ]
  },
  {
   "cell_type": "code",
   "execution_count": 17,
   "id": "99a44355",
   "metadata": {},
   "outputs": [],
   "source": [
    "def sayyad (a):\n",
    "    print(\"factors of \",a,'are')\n",
    "    for i in range(1,a+1):\n",
    "        if a%i==0:\n",
    "            print(i)"
   ]
  },
  {
   "cell_type": "code",
   "execution_count": 18,
   "id": "489760c7",
   "metadata": {},
   "outputs": [
    {
     "name": "stdout",
     "output_type": "stream",
     "text": [
      "factors of  453 are\n",
      "1\n",
      "3\n",
      "151\n",
      "453\n"
     ]
    }
   ],
   "source": [
    "sayyad(453)"
   ]
  },
  {
   "cell_type": "code",
   "execution_count": null,
   "id": "f3682af8",
   "metadata": {},
   "outputs": [],
   "source": []
  }
 ],
 "metadata": {
  "kernelspec": {
   "display_name": "Python 3 (ipykernel)",
   "language": "python",
   "name": "python3"
  },
  "language_info": {
   "codemirror_mode": {
    "name": "ipython",
    "version": 3
   },
   "file_extension": ".py",
   "mimetype": "text/x-python",
   "name": "python",
   "nbconvert_exporter": "python",
   "pygments_lexer": "ipython3",
   "version": "3.11.1"
  }
 },
 "nbformat": 4,
 "nbformat_minor": 5
}
